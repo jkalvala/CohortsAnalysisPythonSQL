{
 "cells": [
  {
   "cell_type": "code",
   "execution_count": 468,
   "metadata": {
    "collapsed": false,
    "scrolled": true
   },
   "outputs": [
    {
     "name": "stderr",
     "output_type": "stream",
     "text": [
      "C:\\Users\\joisi\\Anaconda2\\lib\\site-packages\\ipykernel\\__main__.py:21: SettingWithCopyWarning: \n",
      "A value is trying to be set on a copy of a slice from a DataFrame\n",
      "\n",
      "See the caveats in the documentation: http://pandas.pydata.org/pandas-docs/stable/indexing.html#indexing-view-versus-copy\n"
     ]
    },
    {
     "data": {
      "text/html": [
       "<div>\n",
       "<table border=\"1\" class=\"dataframe\">\n",
       "  <thead>\n",
       "    <tr style=\"text-align: right;\">\n",
       "      <th></th>\n",
       "      <th>CohortMonth</th>\n",
       "      <th>Average Cohort Spending</th>\n",
       "    </tr>\n",
       "  </thead>\n",
       "  <tbody>\n",
       "    <tr>\n",
       "      <th>0</th>\n",
       "      <td>January</td>\n",
       "      <td></td>\n",
       "    </tr>\n",
       "    <tr>\n",
       "      <th>1</th>\n",
       "      <td>February</td>\n",
       "      <td></td>\n",
       "    </tr>\n",
       "    <tr>\n",
       "      <th>2</th>\n",
       "      <td>March</td>\n",
       "      <td></td>\n",
       "    </tr>\n",
       "    <tr>\n",
       "      <th>3</th>\n",
       "      <td>April</td>\n",
       "      <td></td>\n",
       "    </tr>\n",
       "    <tr>\n",
       "      <th>4</th>\n",
       "      <td>May</td>\n",
       "      <td></td>\n",
       "    </tr>\n",
       "    <tr>\n",
       "      <th>5</th>\n",
       "      <td>June</td>\n",
       "      <td></td>\n",
       "    </tr>\n",
       "    <tr>\n",
       "      <th>6</th>\n",
       "      <td>July</td>\n",
       "      <td></td>\n",
       "    </tr>\n",
       "    <tr>\n",
       "      <th>7</th>\n",
       "      <td>August</td>\n",
       "      <td></td>\n",
       "    </tr>\n",
       "    <tr>\n",
       "      <th>8</th>\n",
       "      <td>September</td>\n",
       "      <td>221.225</td>\n",
       "    </tr>\n",
       "    <tr>\n",
       "      <th>9</th>\n",
       "      <td>October</td>\n",
       "      <td></td>\n",
       "    </tr>\n",
       "    <tr>\n",
       "      <th>10</th>\n",
       "      <td>November</td>\n",
       "      <td></td>\n",
       "    </tr>\n",
       "    <tr>\n",
       "      <th>11</th>\n",
       "      <td>December</td>\n",
       "      <td></td>\n",
       "    </tr>\n",
       "  </tbody>\n",
       "</table>\n",
       "</div>"
      ],
      "text/plain": [
       "    CohortMonth Average Cohort Spending\n",
       "0       January                        \n",
       "1      February                        \n",
       "2         March                        \n",
       "3         April                        \n",
       "4           May                        \n",
       "5          June                        \n",
       "6          July                        \n",
       "7        August                        \n",
       "8     September                 221.225\n",
       "9       October                        \n",
       "10     November                        \n",
       "11     December                        "
      ]
     },
     "execution_count": 468,
     "metadata": {},
     "output_type": "execute_result"
    }
   ],
   "source": [
    "import pandas as pd\n",
    "import numpy as np\n",
    "import datetime as dt\n",
    "import calendar\n",
    "\n",
    "#read the users table from a csv file\n",
    "df = pd.read_csv('CohertAnalysis_user.csv')\n",
    "df['date_joined'] = pd.to_datetime(df['date_joined'])\n",
    "#extract all users registered in 2014\n",
    "dfUsers2014 = df[df['date_joined'].dt.year == 2014]\n",
    "#Add a new column “CohortMonth”, dtype is numerical value corr to month\n",
    "dfUsers2014['CohortMonth'] = dfUsers2014['date_joined'].dt.month\n",
    "\n",
    "#read the orders table\n",
    "dfOrders = pd.read_csv('CohertAnalysis_orders.csv')\n",
    "dfOrders['order_date'] = pd.to_datetime(dfOrders['order_date'])\n",
    "#Add a new column “DaysPastSignOn”, dtype is numerical value corr to difference between order date and date_joined as customer\n",
    "dfOrders['DaysPastSignOn']=np.zeros(len(dfOrders))\n",
    "for i in range(0, len(dfOrders)):\n",
    "    dtUserJoined = (dfUsers2014.query(dfUsers2014['user_id']==dfOrders.user_id.iloc[i])['date_joined']).iloc[0]\n",
    "    dfOrders['DaysPastSignOn'][i]= abs((dfOrders.iloc[i]['order_date']-dtUserJoined).days)\n",
    "\n",
    "#left join orders and users tables where orders were placed within one year (365 days) of date_joined\n",
    "temp = pd.merge(dfOrders[dfOrders['DaysPastSignOn']<365], dfUsers2014, how='left')\n",
    "#sum all order_amounts for users joined in each month in 2014\n",
    "dfTemp = temp.groupby(['CohortMonth']).agg({'user_id':  pd.Series.nunique, 'order_amount': 'sum'}).reset_index()\n",
    "\n",
    "#Create new output table containing data for CohortMonth and Average Cohort Spending \n",
    "dfCohorts = pd.DataFrame({' CohortMonth': calendar.month_name[1:13], 'Average Cohort Spending': ['  ']* 12})\n",
    "for x in range(12):\n",
    "    temp = dfTemp[['order_amount','user_id']].where(dfTemp['CohortMonth'] == x+1)\n",
    "    if temp.notnull().values.any():\n",
    "        dfCohorts['Average Cohort Spending'][x] = (temp['order_amount']/ temp['user_id']).at[0]\n",
    "dfCohorts\n"
   ]
  },
  {
   "cell_type": "code",
   "execution_count": null,
   "metadata": {
    "collapsed": true
   },
   "outputs": [],
   "source": []
  }
 ],
 "metadata": {
  "kernelspec": {
   "display_name": "Python 2",
   "language": "python",
   "name": "python2"
  },
  "language_info": {
   "codemirror_mode": {
    "name": "ipython",
    "version": 2
   },
   "file_extension": ".py",
   "mimetype": "text/x-python",
   "name": "python",
   "nbconvert_exporter": "python",
   "pygments_lexer": "ipython2",
   "version": "2.7.13"
  }
 },
 "nbformat": 4,
 "nbformat_minor": 0
}
